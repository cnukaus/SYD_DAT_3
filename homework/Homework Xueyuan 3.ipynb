{
 "cells": [
  {
   "cell_type": "markdown",
   "metadata": {
    "collapsed": true
   },
   "source": [
    "# Linear Regression in English\n",
    "\n",
    "Linear regression is about finding relationships between numeric values. We divide data into independent variables (that we know value a-prior) and dependent variable (that we want to predict).\n",
    "\n",
    "In Linear Regression, we assume the relationship is linear, which can be decribed as a straight line going through all observations, so the sum of distance from all observations to the straight line is minimal (when the straight line becomes the best approximation for the observations).\n",
    "\n",
    "P value is the chance of NUll hypothesis of being rejected by mistake (of data sampling).\n",
    "\n",
    "R Squared is to measure the squared distance of fitted regression line divided by the squared distance of a simple average. The smaller proportion the better (a better fit)\n",
    "\n",
    "\n",
    "![Image of Yaktocat](http://i63.tinypic.com/2ut6l8g.png)\n",
    "\n",
    "# Small multiples - \n",
    "\n",
    "Project: http://www.theguardian.com/news/datablog/interactive/2013/oct/27/interactive-safest-time-to-drive\n",
    "\n",
    "Purpose: To visualise the pattern of car accidents by month, and by time in the day.\n",
    "What I found:![Image of Yaktocat]( http://i66.tinypic.com/oqzj90.png ) The upper half seems have too much animation and not clear about what meaning to convey; the bottom part is straight forward, which shows monthly % of annual car acci.dents\n",
    "\n",
    "\n"
   ]
  },
  {
   "cell_type": "markdown",
   "metadata": {},
   "source": [
    "# NULL hypothesis: \n",
    "\n",
    "Media (TV, Radio, newspaper etc) budget is not relevant to Prduct Sales\n",
    "\n",
    "Conclusion: TV and Radio are both significantly  related to the Sales. Newspaper is not correlated to Sales (and can be removed from the regression model)\n",
    "\n",
    "\n",
    "\n",
    "# KNN\n",
    "The algorithm is the same, for regression the average result of y is used as prediction. For classification the most frequent category by voting. For regression, we can use average of N neighbours as the predicted value.\n",
    "\n",
    "# 3 ways to select feature:\n",
    "1. Forward selection - start with NULL model, then add feature brings lowest RSS, and repeat the process until\n",
    "2. Backward selection\n",
    "3. Mixed selection\n",
    "2. check effeciency\n",
    "3. add to model to see if accuracy changed\n",
    "\n",
    "Exercise 3.2:\n"
   ]
  },
  {
   "cell_type": "code",
   "execution_count": 1,
   "metadata": {
    "collapsed": false
   },
   "outputs": [
    {
     "name": "stdout",
     "output_type": "stream",
     "text": [
      "1189.68\n"
     ]
    }
   ],
   "source": [
    "def reg(GPA,IQ,Gender):\n",
    " b=[50,20,0.07,35,0.01,-10]\n",
    "\n",
    " a=b[0]+GPA*b[1]+IQ*b[2]+Gender*b[3]+GPA*IQ*b[4]+GPA*Gender*b[5]\n",
    "\n",
    "\n",
    " print (a)\n",
    " return a\n",
    "\n",
    "\n",
    "if __name__ == '__main__':  \n",
    " reg(110,4,1)"
   ]
  },
  {
   "cell_type": "markdown",
   "metadata": {
    "collapsed": true
   },
   "source": [
    "Exercise:\n",
    "\n",
    "Statement IIIFor fixed value of GPA/IQ, male with high enough GPA earns more. \n",
    "\n",
    "Salary of Female/IQ110/GPA4.0 is 1190\n",
    "\n",
    "False, as 0.01 / 0.07 are at the same scale, which means if GPA is high enough, the interaction of GPA/IQ will have similar impact as IQ alone."
   ]
  },
  {
   "cell_type": "markdown",
   "metadata": {},
   "source": [
    "Regression Techniques that I may use in my data project:\n",
    "\n",
    "linear regression, logistic regression. Both can be used to estimate the value of missing data. This may take some time but should bring better result than using average etc.\n",
    "\n"
   ]
  }
 ],
 "metadata": {
  "kernelspec": {
   "display_name": "Python 2",
   "language": "python",
   "name": "python2"
  },
  "language_info": {
   "codemirror_mode": {
    "name": "ipython",
    "version": 2
   },
   "file_extension": ".py",
   "mimetype": "text/x-python",
   "name": "python",
   "nbconvert_exporter": "python",
   "pygments_lexer": "ipython2",
   "version": "2.7.10"
  }
 },
 "nbformat": 4,
 "nbformat_minor": 0
}
