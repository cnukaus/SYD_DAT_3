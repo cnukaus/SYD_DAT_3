{
 "cells": [
  {
   "cell_type": "markdown",
   "metadata": {},
   "source": [
    "# Linear Regression in English\n",
    "\n",
    "Linear regression is about finding relationships between numeric values. We divide data into independent variables (that we know value a-prior) and dependent variable (that we want to predict).\n",
    "\n",
    "In Linear Regression, we assume the relationship is linear, which can be decribed as a straight line going through all observations, so the sum of distance from all observations to the straight line is minimal (when the straight line becomes the best approximation for the observations).\n",
    "\n",
    "P value is the chance of NUll hypothesis of being rejected by mistake (of data sampling).\n",
    "\n",
    "R Squared is to measure the squared distance of fitted regression line divided by the squared distance of a simple average. The smaller proportion the better (a better fit)\n",
    "\n",
    "\n",
    "![Image of Yaktocat](https://octodex.github.com/images/yaktocat.png)"
   ]
  }
 ],
 "metadata": {
  "kernelspec": {
   "display_name": "Python 2",
   "language": "python",
   "name": "python2"
  },
  "language_info": {
   "codemirror_mode": {
    "name": "ipython",
    "version": 2
   },
   "file_extension": ".py",
   "mimetype": "text/x-python",
   "name": "python",
   "nbconvert_exporter": "python",
   "pygments_lexer": "ipython2",
   "version": "2.7.10"
  }
 },
 "nbformat": 4,
 "nbformat_minor": 0
}
